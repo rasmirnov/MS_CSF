{
 "cells": [
  {
   "cell_type": "code",
   "execution_count": 1,
   "id": "5bb22409",
   "metadata": {},
   "outputs": [],
   "source": [
    "import synapseclient\n",
    "from synapseclient import File\n",
    "from synapseclient import Folder"
   ]
  },
  {
   "cell_type": "markdown",
   "id": "cee0f693",
   "metadata": {},
   "source": [
    "### 0. First copy files from colaborator's folder to mine code/scanpy"
   ]
  },
  {
   "cell_type": "markdown",
   "id": "28c5b602",
   "metadata": {},
   "source": [
    "### 1. Uploading a file"
   ]
  },
  {
   "cell_type": "code",
   "execution_count": 28,
   "id": "cc884f59",
   "metadata": {
    "collapsed": true
   },
   "outputs": [
    {
     "name": "stderr",
     "output_type": "stream",
     "text": [
      "[WARNING] Logging into Synapse via passwords will be deprecated by early 2024. This message will disappear if you use a Synapse Personal Access Token to login.\n"
     ]
    },
    {
     "name": "stdout",
     "output_type": "stream",
     "text": [
      "Welcome, Roman Smirnov!\n",
      "\n",
      "\n",
      "##################################################\n",
      " Uploading file to Synapse storage \n",
      "##################################################\n",
      "\n"
     ]
    }
   ],
   "source": [
    "syn = synapseclient.login(email='rsmirnov', password='karamelka7128')\n",
    "\n",
    "# Add a local file to an existing project (syn12345) on Synapse\n",
    "file = File(path='/storage1/fs1/martyomov/Active/collaborations/greg_brian/greg_wu/romans/code/scanpy/TWBJ-L464-L464_P-lib1/TWBJ-L464-L464_P-lib1_S2_L004_R2_001.fastq.gz', \n",
    "            parent='syn51730532')\n",
    "file = syn.store(file)"
   ]
  },
  {
   "cell_type": "markdown",
   "id": "cd5b77cc",
   "metadata": {},
   "source": [
    "### 2. Uploading a folder"
   ]
  },
  {
   "cell_type": "code",
   "execution_count": 28,
   "id": "53e96990",
   "metadata": {
    "collapsed": true
   },
   "outputs": [
    {
     "name": "stderr",
     "output_type": "stream",
     "text": [
      "[WARNING] Logging into Synapse via passwords will be deprecated by early 2024. This message will disappear if you use a Synapse Personal Access Token to login.\n"
     ]
    },
    {
     "name": "stdout",
     "output_type": "stream",
     "text": [
      "Welcome, Roman Smirnov!\n",
      "\n",
      "\n",
      "##################################################\n",
      " Uploading file to Synapse storage \n",
      "##################################################\n",
      "\n",
      "\n",
      "##################################################\n",
      " Uploading file to Synapse storage \n",
      "##################################################\n",
      "\n"
     ]
    }
   ],
   "source": [
    "syn = synapseclient.login(email='rsmirnov', password='karamelka7128')\n",
    "\n",
    "# Add a local folder to an existing project (syn12345) on Synapse\n",
    "folder = Folder(name='MGI0964_TWHR-1307_009_BSE-1307_009_BSE_P', \n",
    "            parentId='syn51730532')\n",
    "folder = syn.store(folder)\n",
    "\n",
    "import os\n",
    "\n",
    "local_folder_path = '/storage1/fs1/martyomov/Active/collaborations/greg_brian/greg_wu/romans/code/scanpy/Wu_vdj_multi_MGI0964_10X/MGI0964_TWHR-1307_009_BSE-1307_009_BSE_P'\n",
    "\n",
    "for filename in os.listdir(local_folder_path):\n",
    "    file_path = os.path.join(local_folder_path, filename)\n",
    "    file_entity = synapseclient.File(file_path, parent=folder)\n",
    "    file_entity = syn.store(file_entity)"
   ]
  }
 ],
 "metadata": {
  "kernelspec": {
   "display_name": "Python 3 (ipykernel)",
   "language": "python",
   "name": "python3"
  },
  "language_info": {
   "codemirror_mode": {
    "name": "ipython",
    "version": 3
   },
   "file_extension": ".py",
   "mimetype": "text/x-python",
   "name": "python",
   "nbconvert_exporter": "python",
   "pygments_lexer": "ipython3",
   "version": "3.9.13"
  }
 },
 "nbformat": 4,
 "nbformat_minor": 5
}
